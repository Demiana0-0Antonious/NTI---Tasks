{
  "cells": [
    {
      "cell_type": "code",
      "execution_count": 41,
      "metadata": {
        "id": "hsFGNNgd0U4e"
      },
      "outputs": [],
      "source": [
        "import numpy as np\n",
        "from sklearn.datasets import load_iris\n",
        "from sklearn.tree import DecisionTreeClassifier\n",
        "from sklearn.model_selection import train_test_split\n",
        "from sklearn.ensemble import AdaBoostClassifier\n",
        "from sklearn.metrics import accuracy_score"
      ]
    },
    {
      "cell_type": "code",
      "execution_count": 42,
      "metadata": {
        "id": "Ksz3E9Y50aFz"
      },
      "outputs": [],
      "source": [
        "iris = load_iris()\n",
        "X = iris.data\n",
        "y = iris.target\n",
        "n_classes = len(np.unique(y))"
      ]
    },
    {
      "cell_type": "code",
      "execution_count": 43,
      "metadata": {
        "id": "kNURvtGA0aLE"
      },
      "outputs": [],
      "source": [
        "X_train, X_test, y_train, y_test = train_test_split(X, y, test_size=0.2, random_state=42)"
      ]
    },
    {
      "cell_type": "markdown",
      "metadata": {
        "id": "_ZgLTYGO1Sg7"
      },
      "source": [
        "AdaBoost from scratch -> it only works for Multi - class"
      ]
    },
    {
      "cell_type": "code",
      "execution_count": 44,
      "metadata": {
        "id": "5iAYfUzV0aNx"
      },
      "outputs": [],
      "source": [
        "def adaboost_multiclass_scratch(X, y, n_estimators=20):\n",
        "    n_samples = X.shape[0]\n",
        "    weights = np.ones(n_samples) / n_samples\n",
        "    models = []\n",
        "    alphas = []\n",
        "\n",
        "    for i in range(n_estimators):\n",
        "        stump = DecisionTreeClassifier(max_depth=1, random_state=i)\n",
        "        stump.fit(X, y, sample_weight=weights)\n",
        "        y_pred = stump.predict(X)\n",
        "\n",
        "        err = np.sum(weights * (y_pred != y)) / np.sum(weights)\n",
        "        if err >= 1.0 or err == 0:\n",
        "            continue\n",
        "\n",
        "        alpha = np.log((1 - err) / err) + np.log(n_classes - 1)\n",
        "\n",
        "        weights *= np.exp(alpha * (y_pred != y))\n",
        "        weights /= np.sum(weights)\n",
        "\n",
        "        models.append(stump)\n",
        "        alphas.append(alpha)\n",
        "\n",
        "    return models, alphas"
      ]
    },
    {
      "cell_type": "code",
      "execution_count": 45,
      "metadata": {
        "id": "JYUyFkUN0aTC"
      },
      "outputs": [],
      "source": [
        "# Prediction\n",
        "def predict_multiclass_adaboost(models, alphas, X, n_classes):\n",
        "    pred = np.zeros((X.shape[0], n_classes))\n",
        "\n",
        "    for model, alpha in zip(models, alphas):\n",
        "        pred[np.arange(X.shape[0]), model.predict(X)] += alpha\n",
        "\n",
        "    return np.argmax(pred, axis=1)"
      ]
    },
    {
      "cell_type": "code",
      "execution_count": 46,
      "metadata": {
        "id": "BNxECcfl0aVo",
        "colab": {
          "base_uri": "https://localhost:8080/"
        },
        "outputId": "2f6c21de-a778-4ac9-84cd-fc75ca94d1b5"
      },
      "outputs": [
        {
          "output_type": "stream",
          "name": "stdout",
          "text": [
            "Scratch AdaBoost Accuracy: 1.0\n"
          ]
        }
      ],
      "source": [
        "# Train and evaluate scratch AdaBoost\n",
        "models, alphas = adaboost_multiclass_scratch(X_train, y_train, n_estimators=20)\n",
        "y_pred_scratch = predict_multiclass_adaboost(models, alphas, X_test, n_classes)\n",
        "\n",
        "print(\"Scratch AdaBoost Accuracy:\", accuracy_score(y_test, y_pred_scratch))"
      ]
    },
    {
      "cell_type": "code",
      "execution_count": 49,
      "metadata": {
        "id": "pxO5Olb10ab8",
        "colab": {
          "base_uri": "https://localhost:8080/"
        },
        "outputId": "373cdd04-5a23-404d-c1bf-5835df1c05bf"
      },
      "outputs": [
        {
          "output_type": "stream",
          "name": "stdout",
          "text": [
            "Built-in AdaBoost Accuracy: 1.0\n"
          ]
        },
        {
          "output_type": "stream",
          "name": "stderr",
          "text": [
            "/usr/local/lib/python3.11/dist-packages/sklearn/ensemble/_weight_boosting.py:519: FutureWarning: The parameter 'algorithm' is deprecated in 1.6 and has no effect. It will be removed in version 1.8.\n",
            "  warnings.warn(\n"
          ]
        }
      ],
      "source": [
        "sk_model = AdaBoostClassifier(\n",
        "    estimator=DecisionTreeClassifier(max_depth=1),\n",
        "    n_estimators=20,\n",
        "    algorithm='SAMME',\n",
        "    random_state=42\n",
        ")\n",
        "\n",
        "sk_model.fit(X_train, y_train)\n",
        "y_pred_builtin = sk_model.predict(X_test)\n",
        "\n",
        "print(\"Built-in AdaBoost Accuracy:\", accuracy_score(y_test, y_pred_builtin))"
      ]
    },
    {
      "cell_type": "code",
      "execution_count": null,
      "metadata": {
        "id": "KqGeebOO0ae6"
      },
      "outputs": [],
      "source": [
        "sk_model.fit(X_train, y_train)\n",
        "y_pred_builtin = sk_model.predict(X_test)\n",
        "\n",
        "print(\"Built-in AdaBoost Accuracy:\", accuracy_score(y_test, y_pred_builtin))"
      ]
    },
    {
      "cell_type": "code",
      "execution_count": null,
      "metadata": {
        "id": "BiQJ0OsL0aiX"
      },
      "outputs": [],
      "source": []
    }
  ],
  "metadata": {
    "colab": {
      "provenance": []
    },
    "kernelspec": {
      "display_name": "Python 3",
      "name": "python3"
    },
    "language_info": {
      "name": "python"
    }
  },
  "nbformat": 4,
  "nbformat_minor": 0
}